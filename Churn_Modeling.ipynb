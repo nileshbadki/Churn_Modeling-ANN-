{
 "cells": [
  {
   "cell_type": "code",
   "execution_count": 1,
   "id": "23619785",
   "metadata": {},
   "outputs": [
    {
     "name": "stdout",
     "output_type": "stream",
     "text": [
      "2.6.0\n"
     ]
    }
   ],
   "source": [
    "import tensorflow as tf\n",
    "print(tf.__version__)"
   ]
  },
  {
   "cell_type": "code",
   "execution_count": 2,
   "id": "0353e78a",
   "metadata": {},
   "outputs": [],
   "source": [
    "import numpy as np\n",
    "import matplotlib.pyplot as plt\n",
    "import pandas as pd"
   ]
  },
  {
   "cell_type": "code",
   "execution_count": 3,
   "id": "e73c82fe",
   "metadata": {},
   "outputs": [
    {
     "data": {
      "text/html": [
       "<div>\n",
       "<style scoped>\n",
       "    .dataframe tbody tr th:only-of-type {\n",
       "        vertical-align: middle;\n",
       "    }\n",
       "\n",
       "    .dataframe tbody tr th {\n",
       "        vertical-align: top;\n",
       "    }\n",
       "\n",
       "    .dataframe thead th {\n",
       "        text-align: right;\n",
       "    }\n",
       "</style>\n",
       "<table border=\"1\" class=\"dataframe\">\n",
       "  <thead>\n",
       "    <tr style=\"text-align: right;\">\n",
       "      <th></th>\n",
       "      <th>RowNumber</th>\n",
       "      <th>CustomerId</th>\n",
       "      <th>Surname</th>\n",
       "      <th>CreditScore</th>\n",
       "      <th>Geography</th>\n",
       "      <th>Gender</th>\n",
       "      <th>Age</th>\n",
       "      <th>Tenure</th>\n",
       "      <th>Balance</th>\n",
       "      <th>NumOfProducts</th>\n",
       "      <th>HasCrCard</th>\n",
       "      <th>IsActiveMember</th>\n",
       "      <th>EstimatedSalary</th>\n",
       "      <th>Exited</th>\n",
       "    </tr>\n",
       "  </thead>\n",
       "  <tbody>\n",
       "    <tr>\n",
       "      <th>0</th>\n",
       "      <td>1</td>\n",
       "      <td>15634602</td>\n",
       "      <td>Hargrave</td>\n",
       "      <td>619</td>\n",
       "      <td>France</td>\n",
       "      <td>Female</td>\n",
       "      <td>42</td>\n",
       "      <td>2</td>\n",
       "      <td>0.00</td>\n",
       "      <td>1</td>\n",
       "      <td>1</td>\n",
       "      <td>1</td>\n",
       "      <td>101348.88</td>\n",
       "      <td>1</td>\n",
       "    </tr>\n",
       "    <tr>\n",
       "      <th>1</th>\n",
       "      <td>2</td>\n",
       "      <td>15647311</td>\n",
       "      <td>Hill</td>\n",
       "      <td>608</td>\n",
       "      <td>Spain</td>\n",
       "      <td>Female</td>\n",
       "      <td>41</td>\n",
       "      <td>1</td>\n",
       "      <td>83807.86</td>\n",
       "      <td>1</td>\n",
       "      <td>0</td>\n",
       "      <td>1</td>\n",
       "      <td>112542.58</td>\n",
       "      <td>0</td>\n",
       "    </tr>\n",
       "    <tr>\n",
       "      <th>2</th>\n",
       "      <td>3</td>\n",
       "      <td>15619304</td>\n",
       "      <td>Onio</td>\n",
       "      <td>502</td>\n",
       "      <td>France</td>\n",
       "      <td>Female</td>\n",
       "      <td>42</td>\n",
       "      <td>8</td>\n",
       "      <td>159660.80</td>\n",
       "      <td>3</td>\n",
       "      <td>1</td>\n",
       "      <td>0</td>\n",
       "      <td>113931.57</td>\n",
       "      <td>1</td>\n",
       "    </tr>\n",
       "    <tr>\n",
       "      <th>3</th>\n",
       "      <td>4</td>\n",
       "      <td>15701354</td>\n",
       "      <td>Boni</td>\n",
       "      <td>699</td>\n",
       "      <td>France</td>\n",
       "      <td>Female</td>\n",
       "      <td>39</td>\n",
       "      <td>1</td>\n",
       "      <td>0.00</td>\n",
       "      <td>2</td>\n",
       "      <td>0</td>\n",
       "      <td>0</td>\n",
       "      <td>93826.63</td>\n",
       "      <td>0</td>\n",
       "    </tr>\n",
       "    <tr>\n",
       "      <th>4</th>\n",
       "      <td>5</td>\n",
       "      <td>15737888</td>\n",
       "      <td>Mitchell</td>\n",
       "      <td>850</td>\n",
       "      <td>Spain</td>\n",
       "      <td>Female</td>\n",
       "      <td>43</td>\n",
       "      <td>2</td>\n",
       "      <td>125510.82</td>\n",
       "      <td>1</td>\n",
       "      <td>1</td>\n",
       "      <td>1</td>\n",
       "      <td>79084.10</td>\n",
       "      <td>0</td>\n",
       "    </tr>\n",
       "  </tbody>\n",
       "</table>\n",
       "</div>"
      ],
      "text/plain": [
       "   RowNumber  CustomerId   Surname  CreditScore Geography  Gender  Age  \\\n",
       "0          1    15634602  Hargrave          619    France  Female   42   \n",
       "1          2    15647311      Hill          608     Spain  Female   41   \n",
       "2          3    15619304      Onio          502    France  Female   42   \n",
       "3          4    15701354      Boni          699    France  Female   39   \n",
       "4          5    15737888  Mitchell          850     Spain  Female   43   \n",
       "\n",
       "   Tenure    Balance  NumOfProducts  HasCrCard  IsActiveMember  \\\n",
       "0       2       0.00              1          1               1   \n",
       "1       1   83807.86              1          0               1   \n",
       "2       8  159660.80              3          1               0   \n",
       "3       1       0.00              2          0               0   \n",
       "4       2  125510.82              1          1               1   \n",
       "\n",
       "   EstimatedSalary  Exited  \n",
       "0        101348.88       1  \n",
       "1        112542.58       0  \n",
       "2        113931.57       1  \n",
       "3         93826.63       0  \n",
       "4         79084.10       0  "
      ]
     },
     "execution_count": 3,
     "metadata": {},
     "output_type": "execute_result"
    }
   ],
   "source": [
    "dataset=pd.read_csv('Churn_Modelling.csv')\n",
    "dataset.head()"
   ]
  },
  {
   "cell_type": "code",
   "execution_count": 4,
   "id": "4c9da317",
   "metadata": {},
   "outputs": [],
   "source": [
    "## Divide the dataset into independent and dependent features\n",
    "\n",
    "X=dataset.iloc[:,3:13]\n",
    "y=dataset.iloc[:,13]"
   ]
  },
  {
   "cell_type": "code",
   "execution_count": 5,
   "id": "550ae01b",
   "metadata": {},
   "outputs": [
    {
     "data": {
      "text/html": [
       "<div>\n",
       "<style scoped>\n",
       "    .dataframe tbody tr th:only-of-type {\n",
       "        vertical-align: middle;\n",
       "    }\n",
       "\n",
       "    .dataframe tbody tr th {\n",
       "        vertical-align: top;\n",
       "    }\n",
       "\n",
       "    .dataframe thead th {\n",
       "        text-align: right;\n",
       "    }\n",
       "</style>\n",
       "<table border=\"1\" class=\"dataframe\">\n",
       "  <thead>\n",
       "    <tr style=\"text-align: right;\">\n",
       "      <th></th>\n",
       "      <th>CreditScore</th>\n",
       "      <th>Geography</th>\n",
       "      <th>Gender</th>\n",
       "      <th>Age</th>\n",
       "      <th>Tenure</th>\n",
       "      <th>Balance</th>\n",
       "      <th>NumOfProducts</th>\n",
       "      <th>HasCrCard</th>\n",
       "      <th>IsActiveMember</th>\n",
       "      <th>EstimatedSalary</th>\n",
       "    </tr>\n",
       "  </thead>\n",
       "  <tbody>\n",
       "    <tr>\n",
       "      <th>0</th>\n",
       "      <td>619</td>\n",
       "      <td>France</td>\n",
       "      <td>Female</td>\n",
       "      <td>42</td>\n",
       "      <td>2</td>\n",
       "      <td>0.00</td>\n",
       "      <td>1</td>\n",
       "      <td>1</td>\n",
       "      <td>1</td>\n",
       "      <td>101348.88</td>\n",
       "    </tr>\n",
       "    <tr>\n",
       "      <th>1</th>\n",
       "      <td>608</td>\n",
       "      <td>Spain</td>\n",
       "      <td>Female</td>\n",
       "      <td>41</td>\n",
       "      <td>1</td>\n",
       "      <td>83807.86</td>\n",
       "      <td>1</td>\n",
       "      <td>0</td>\n",
       "      <td>1</td>\n",
       "      <td>112542.58</td>\n",
       "    </tr>\n",
       "    <tr>\n",
       "      <th>2</th>\n",
       "      <td>502</td>\n",
       "      <td>France</td>\n",
       "      <td>Female</td>\n",
       "      <td>42</td>\n",
       "      <td>8</td>\n",
       "      <td>159660.80</td>\n",
       "      <td>3</td>\n",
       "      <td>1</td>\n",
       "      <td>0</td>\n",
       "      <td>113931.57</td>\n",
       "    </tr>\n",
       "    <tr>\n",
       "      <th>3</th>\n",
       "      <td>699</td>\n",
       "      <td>France</td>\n",
       "      <td>Female</td>\n",
       "      <td>39</td>\n",
       "      <td>1</td>\n",
       "      <td>0.00</td>\n",
       "      <td>2</td>\n",
       "      <td>0</td>\n",
       "      <td>0</td>\n",
       "      <td>93826.63</td>\n",
       "    </tr>\n",
       "    <tr>\n",
       "      <th>4</th>\n",
       "      <td>850</td>\n",
       "      <td>Spain</td>\n",
       "      <td>Female</td>\n",
       "      <td>43</td>\n",
       "      <td>2</td>\n",
       "      <td>125510.82</td>\n",
       "      <td>1</td>\n",
       "      <td>1</td>\n",
       "      <td>1</td>\n",
       "      <td>79084.10</td>\n",
       "    </tr>\n",
       "  </tbody>\n",
       "</table>\n",
       "</div>"
      ],
      "text/plain": [
       "   CreditScore Geography  Gender  Age  Tenure    Balance  NumOfProducts  \\\n",
       "0          619    France  Female   42       2       0.00              1   \n",
       "1          608     Spain  Female   41       1   83807.86              1   \n",
       "2          502    France  Female   42       8  159660.80              3   \n",
       "3          699    France  Female   39       1       0.00              2   \n",
       "4          850     Spain  Female   43       2  125510.82              1   \n",
       "\n",
       "   HasCrCard  IsActiveMember  EstimatedSalary  \n",
       "0          1               1        101348.88  \n",
       "1          0               1        112542.58  \n",
       "2          1               0        113931.57  \n",
       "3          0               0         93826.63  \n",
       "4          1               1         79084.10  "
      ]
     },
     "execution_count": 5,
     "metadata": {},
     "output_type": "execute_result"
    }
   ],
   "source": [
    "X.head()"
   ]
  },
  {
   "cell_type": "code",
   "execution_count": 6,
   "id": "234656b4",
   "metadata": {},
   "outputs": [
    {
     "data": {
      "text/plain": [
       "0       1\n",
       "1       0\n",
       "2       1\n",
       "3       0\n",
       "4       0\n",
       "       ..\n",
       "9995    0\n",
       "9996    0\n",
       "9997    1\n",
       "9998    1\n",
       "9999    0\n",
       "Name: Exited, Length: 10000, dtype: int64"
      ]
     },
     "execution_count": 6,
     "metadata": {},
     "output_type": "execute_result"
    }
   ],
   "source": [
    "y"
   ]
  },
  {
   "cell_type": "code",
   "execution_count": 7,
   "id": "64b7cc24",
   "metadata": {},
   "outputs": [],
   "source": [
    "## Ferature Engineering \n",
    "geography=pd.get_dummies(X['Geography'],drop_first=True)\n",
    "gender=pd.get_dummies(X['Gender'],drop_first=True)"
   ]
  },
  {
   "cell_type": "code",
   "execution_count": 8,
   "id": "db421c78",
   "metadata": {},
   "outputs": [],
   "source": [
    "X=X.drop(['Geography','Gender'],axis=1)"
   ]
  },
  {
   "cell_type": "code",
   "execution_count": 9,
   "id": "d1fa604c",
   "metadata": {},
   "outputs": [
    {
     "data": {
      "text/html": [
       "<div>\n",
       "<style scoped>\n",
       "    .dataframe tbody tr th:only-of-type {\n",
       "        vertical-align: middle;\n",
       "    }\n",
       "\n",
       "    .dataframe tbody tr th {\n",
       "        vertical-align: top;\n",
       "    }\n",
       "\n",
       "    .dataframe thead th {\n",
       "        text-align: right;\n",
       "    }\n",
       "</style>\n",
       "<table border=\"1\" class=\"dataframe\">\n",
       "  <thead>\n",
       "    <tr style=\"text-align: right;\">\n",
       "      <th></th>\n",
       "      <th>CreditScore</th>\n",
       "      <th>Age</th>\n",
       "      <th>Tenure</th>\n",
       "      <th>Balance</th>\n",
       "      <th>NumOfProducts</th>\n",
       "      <th>HasCrCard</th>\n",
       "      <th>IsActiveMember</th>\n",
       "      <th>EstimatedSalary</th>\n",
       "    </tr>\n",
       "  </thead>\n",
       "  <tbody>\n",
       "    <tr>\n",
       "      <th>0</th>\n",
       "      <td>619</td>\n",
       "      <td>42</td>\n",
       "      <td>2</td>\n",
       "      <td>0.00</td>\n",
       "      <td>1</td>\n",
       "      <td>1</td>\n",
       "      <td>1</td>\n",
       "      <td>101348.88</td>\n",
       "    </tr>\n",
       "    <tr>\n",
       "      <th>1</th>\n",
       "      <td>608</td>\n",
       "      <td>41</td>\n",
       "      <td>1</td>\n",
       "      <td>83807.86</td>\n",
       "      <td>1</td>\n",
       "      <td>0</td>\n",
       "      <td>1</td>\n",
       "      <td>112542.58</td>\n",
       "    </tr>\n",
       "    <tr>\n",
       "      <th>2</th>\n",
       "      <td>502</td>\n",
       "      <td>42</td>\n",
       "      <td>8</td>\n",
       "      <td>159660.80</td>\n",
       "      <td>3</td>\n",
       "      <td>1</td>\n",
       "      <td>0</td>\n",
       "      <td>113931.57</td>\n",
       "    </tr>\n",
       "    <tr>\n",
       "      <th>3</th>\n",
       "      <td>699</td>\n",
       "      <td>39</td>\n",
       "      <td>1</td>\n",
       "      <td>0.00</td>\n",
       "      <td>2</td>\n",
       "      <td>0</td>\n",
       "      <td>0</td>\n",
       "      <td>93826.63</td>\n",
       "    </tr>\n",
       "    <tr>\n",
       "      <th>4</th>\n",
       "      <td>850</td>\n",
       "      <td>43</td>\n",
       "      <td>2</td>\n",
       "      <td>125510.82</td>\n",
       "      <td>1</td>\n",
       "      <td>1</td>\n",
       "      <td>1</td>\n",
       "      <td>79084.10</td>\n",
       "    </tr>\n",
       "  </tbody>\n",
       "</table>\n",
       "</div>"
      ],
      "text/plain": [
       "   CreditScore  Age  Tenure    Balance  NumOfProducts  HasCrCard  \\\n",
       "0          619   42       2       0.00              1          1   \n",
       "1          608   41       1   83807.86              1          0   \n",
       "2          502   42       8  159660.80              3          1   \n",
       "3          699   39       1       0.00              2          0   \n",
       "4          850   43       2  125510.82              1          1   \n",
       "\n",
       "   IsActiveMember  EstimatedSalary  \n",
       "0               1        101348.88  \n",
       "1               1        112542.58  \n",
       "2               0        113931.57  \n",
       "3               0         93826.63  \n",
       "4               1         79084.10  "
      ]
     },
     "execution_count": 9,
     "metadata": {},
     "output_type": "execute_result"
    }
   ],
   "source": [
    "X.head()"
   ]
  },
  {
   "cell_type": "code",
   "execution_count": 10,
   "id": "72840852",
   "metadata": {},
   "outputs": [],
   "source": [
    "## add the features in df\n",
    "X=pd.concat([X,geography,gender],axis=1)"
   ]
  },
  {
   "cell_type": "code",
   "execution_count": 11,
   "id": "848ec711",
   "metadata": {},
   "outputs": [
    {
     "data": {
      "text/html": [
       "<div>\n",
       "<style scoped>\n",
       "    .dataframe tbody tr th:only-of-type {\n",
       "        vertical-align: middle;\n",
       "    }\n",
       "\n",
       "    .dataframe tbody tr th {\n",
       "        vertical-align: top;\n",
       "    }\n",
       "\n",
       "    .dataframe thead th {\n",
       "        text-align: right;\n",
       "    }\n",
       "</style>\n",
       "<table border=\"1\" class=\"dataframe\">\n",
       "  <thead>\n",
       "    <tr style=\"text-align: right;\">\n",
       "      <th></th>\n",
       "      <th>CreditScore</th>\n",
       "      <th>Age</th>\n",
       "      <th>Tenure</th>\n",
       "      <th>Balance</th>\n",
       "      <th>NumOfProducts</th>\n",
       "      <th>HasCrCard</th>\n",
       "      <th>IsActiveMember</th>\n",
       "      <th>EstimatedSalary</th>\n",
       "      <th>Germany</th>\n",
       "      <th>Spain</th>\n",
       "      <th>Male</th>\n",
       "    </tr>\n",
       "  </thead>\n",
       "  <tbody>\n",
       "    <tr>\n",
       "      <th>0</th>\n",
       "      <td>619</td>\n",
       "      <td>42</td>\n",
       "      <td>2</td>\n",
       "      <td>0.00</td>\n",
       "      <td>1</td>\n",
       "      <td>1</td>\n",
       "      <td>1</td>\n",
       "      <td>101348.88</td>\n",
       "      <td>0</td>\n",
       "      <td>0</td>\n",
       "      <td>0</td>\n",
       "    </tr>\n",
       "    <tr>\n",
       "      <th>1</th>\n",
       "      <td>608</td>\n",
       "      <td>41</td>\n",
       "      <td>1</td>\n",
       "      <td>83807.86</td>\n",
       "      <td>1</td>\n",
       "      <td>0</td>\n",
       "      <td>1</td>\n",
       "      <td>112542.58</td>\n",
       "      <td>0</td>\n",
       "      <td>1</td>\n",
       "      <td>0</td>\n",
       "    </tr>\n",
       "    <tr>\n",
       "      <th>2</th>\n",
       "      <td>502</td>\n",
       "      <td>42</td>\n",
       "      <td>8</td>\n",
       "      <td>159660.80</td>\n",
       "      <td>3</td>\n",
       "      <td>1</td>\n",
       "      <td>0</td>\n",
       "      <td>113931.57</td>\n",
       "      <td>0</td>\n",
       "      <td>0</td>\n",
       "      <td>0</td>\n",
       "    </tr>\n",
       "    <tr>\n",
       "      <th>3</th>\n",
       "      <td>699</td>\n",
       "      <td>39</td>\n",
       "      <td>1</td>\n",
       "      <td>0.00</td>\n",
       "      <td>2</td>\n",
       "      <td>0</td>\n",
       "      <td>0</td>\n",
       "      <td>93826.63</td>\n",
       "      <td>0</td>\n",
       "      <td>0</td>\n",
       "      <td>0</td>\n",
       "    </tr>\n",
       "    <tr>\n",
       "      <th>4</th>\n",
       "      <td>850</td>\n",
       "      <td>43</td>\n",
       "      <td>2</td>\n",
       "      <td>125510.82</td>\n",
       "      <td>1</td>\n",
       "      <td>1</td>\n",
       "      <td>1</td>\n",
       "      <td>79084.10</td>\n",
       "      <td>0</td>\n",
       "      <td>1</td>\n",
       "      <td>0</td>\n",
       "    </tr>\n",
       "  </tbody>\n",
       "</table>\n",
       "</div>"
      ],
      "text/plain": [
       "   CreditScore  Age  Tenure    Balance  NumOfProducts  HasCrCard  \\\n",
       "0          619   42       2       0.00              1          1   \n",
       "1          608   41       1   83807.86              1          0   \n",
       "2          502   42       8  159660.80              3          1   \n",
       "3          699   39       1       0.00              2          0   \n",
       "4          850   43       2  125510.82              1          1   \n",
       "\n",
       "   IsActiveMember  EstimatedSalary  Germany  Spain  Male  \n",
       "0               1        101348.88        0      0     0  \n",
       "1               1        112542.58        0      1     0  \n",
       "2               0        113931.57        0      0     0  \n",
       "3               0         93826.63        0      0     0  \n",
       "4               1         79084.10        0      1     0  "
      ]
     },
     "execution_count": 11,
     "metadata": {},
     "output_type": "execute_result"
    }
   ],
   "source": [
    "X.head()"
   ]
  },
  {
   "cell_type": "code",
   "execution_count": 12,
   "id": "35e627b2",
   "metadata": {},
   "outputs": [],
   "source": [
    "#Splitting the dataset into Training set and Test Set\n",
    "from sklearn.model_selection import train_test_split\n",
    "X_train,X_test,y_train,y_test=train_test_split(X,y,random_state=0,test_size=0.2)"
   ]
  },
  {
   "cell_type": "code",
   "execution_count": 13,
   "id": "b24e499f",
   "metadata": {},
   "outputs": [],
   "source": [
    "#feature Scaling\n",
    "\n",
    "from sklearn.preprocessing import StandardScaler\n",
    "sc =StandardScaler()\n",
    "X_train=sc.fit_transform(X_train)\n",
    "X_test=sc.transform(X_test)"
   ]
  },
  {
   "cell_type": "code",
   "execution_count": 14,
   "id": "459dd860",
   "metadata": {},
   "outputs": [
    {
     "data": {
      "text/plain": [
       "array([[ 0.16958176, -0.46460796,  0.00666099, ..., -0.5698444 ,\n",
       "         1.74309049, -1.09168714],\n",
       "       [-2.30455945,  0.30102557, -1.37744033, ...,  1.75486502,\n",
       "        -0.57369368,  0.91601335],\n",
       "       [-1.19119591, -0.94312892, -1.031415  , ..., -0.5698444 ,\n",
       "        -0.57369368, -1.09168714],\n",
       "       ...,\n",
       "       [ 0.9015152 , -0.36890377,  0.00666099, ..., -0.5698444 ,\n",
       "        -0.57369368,  0.91601335],\n",
       "       [-0.62420521, -0.08179119,  1.39076231, ..., -0.5698444 ,\n",
       "         1.74309049, -1.09168714],\n",
       "       [-0.28401079,  0.87525072, -1.37744033, ...,  1.75486502,\n",
       "        -0.57369368, -1.09168714]])"
      ]
     },
     "execution_count": 14,
     "metadata": {},
     "output_type": "execute_result"
    }
   ],
   "source": [
    "X_train"
   ]
  },
  {
   "cell_type": "code",
   "execution_count": 15,
   "id": "c7753668",
   "metadata": {},
   "outputs": [
    {
     "data": {
      "text/plain": [
       "array([[-0.55204276, -0.36890377,  1.04473698, ...,  1.75486502,\n",
       "        -0.57369368, -1.09168714],\n",
       "       [-1.31490297,  0.10961719, -1.031415  , ..., -0.5698444 ,\n",
       "        -0.57369368, -1.09168714],\n",
       "       [ 0.57162971,  0.30102557,  1.04473698, ..., -0.5698444 ,\n",
       "         1.74309049, -1.09168714],\n",
       "       ...,\n",
       "       [-0.74791227, -0.27319958, -1.37744033, ..., -0.5698444 ,\n",
       "         1.74309049,  0.91601335],\n",
       "       [-0.00566991, -0.46460796, -0.33936434, ...,  1.75486502,\n",
       "        -0.57369368,  0.91601335],\n",
       "       [-0.79945688, -0.84742473,  1.04473698, ...,  1.75486502,\n",
       "        -0.57369368,  0.91601335]])"
      ]
     },
     "execution_count": 15,
     "metadata": {},
     "output_type": "execute_result"
    }
   ],
   "source": [
    "X_test"
   ]
  },
  {
   "cell_type": "code",
   "execution_count": 16,
   "id": "bfce00e2",
   "metadata": {},
   "outputs": [],
   "source": [
    "## Part 2 Now lets create the ANN\n",
    "from tensorflow.keras.models import Sequential\n",
    "from tensorflow.keras.layers import Dense\n",
    "from tensorflow.keras.layers import LeakyReLU,PReLU,ELU,ReLU\n",
    "from tensorflow.keras.layers import Dropout"
   ]
  },
  {
   "cell_type": "code",
   "execution_count": 17,
   "id": "1afbac33",
   "metadata": {},
   "outputs": [],
   "source": [
    "### Lets initialize the ANN\n",
    "classifier=Sequential()"
   ]
  },
  {
   "cell_type": "code",
   "execution_count": 18,
   "id": "5fc3a808",
   "metadata": {},
   "outputs": [],
   "source": [
    "## Adding the input Layer and first hidden layer\n",
    "classifier.add(Dense(10,input_shape=(11,),activation='relu'))"
   ]
  },
  {
   "cell_type": "code",
   "execution_count": 19,
   "id": "15bfc256",
   "metadata": {},
   "outputs": [
    {
     "data": {
      "text/plain": [
       "<keras.engine.sequential.Sequential at 0x1ea5d677588>"
      ]
     },
     "execution_count": 19,
     "metadata": {},
     "output_type": "execute_result"
    }
   ],
   "source": [
    "classifier"
   ]
  },
  {
   "cell_type": "code",
   "execution_count": 20,
   "id": "f350187d",
   "metadata": {},
   "outputs": [],
   "source": [
    "# adding the second hidden layer\n",
    "classifier.add(Dense(units=10,activation='relu'))\n",
    "#classifier.add(Dropout(0.2))"
   ]
  },
  {
   "cell_type": "code",
   "execution_count": 21,
   "id": "d4a26fac",
   "metadata": {},
   "outputs": [],
   "source": [
    "##adding the third hidden layer\n",
    "classifier.add(Dense(units=10,activation='relu'))\n",
    "#classifier.add(Dropout(0.3))"
   ]
  },
  {
   "cell_type": "code",
   "execution_count": 22,
   "id": "145c5c87",
   "metadata": {},
   "outputs": [],
   "source": [
    "##  Adding the output layer\n",
    "classifier.add(Dense(1,activation='sigmoid'))"
   ]
  },
  {
   "cell_type": "code",
   "execution_count": 23,
   "id": "a2167cea",
   "metadata": {},
   "outputs": [
    {
     "name": "stdout",
     "output_type": "stream",
     "text": [
      "Model: \"sequential\"\n",
      "_________________________________________________________________\n",
      "Layer (type)                 Output Shape              Param #   \n",
      "=================================================================\n",
      "dense (Dense)                (None, 10)                120       \n",
      "_________________________________________________________________\n",
      "dense_1 (Dense)              (None, 10)                110       \n",
      "_________________________________________________________________\n",
      "dense_2 (Dense)              (None, 10)                110       \n",
      "_________________________________________________________________\n",
      "dense_3 (Dense)              (None, 1)                 11        \n",
      "=================================================================\n",
      "Total params: 351\n",
      "Trainable params: 351\n",
      "Non-trainable params: 0\n",
      "_________________________________________________________________\n"
     ]
    }
   ],
   "source": [
    "classifier.summary()"
   ]
  },
  {
   "cell_type": "code",
   "execution_count": 24,
   "id": "ed7933ac",
   "metadata": {},
   "outputs": [],
   "source": [
    "import tensorflow\n",
    "opt=tensorflow.keras.optimizers.Adam(learning_rate=0.01)"
   ]
  },
  {
   "cell_type": "code",
   "execution_count": 25,
   "id": "cefa554f",
   "metadata": {},
   "outputs": [],
   "source": [
    "classifier.compile(optimizer=opt,loss='binary_crossentropy',metrics=['accuracy'])"
   ]
  },
  {
   "cell_type": "code",
   "execution_count": 26,
   "id": "c899c62a",
   "metadata": {},
   "outputs": [],
   "source": [
    "## Early Stopping\n",
    "import tensorflow as tf\n",
    "early_stopping=tf.keras.callbacks.EarlyStopping(\n",
    "    monitor=\"val_loss\",\n",
    "    min_delta=0.0001,\n",
    "    patience=5,\n",
    "    verbose=1,\n",
    "    mode=\"auto\",\n",
    "   \n",
    ")"
   ]
  },
  {
   "cell_type": "code",
   "execution_count": 27,
   "id": "d3186201",
   "metadata": {},
   "outputs": [
    {
     "data": {
      "text/plain": [
       "(8000, 11)"
      ]
     },
     "execution_count": 27,
     "metadata": {},
     "output_type": "execute_result"
    }
   ],
   "source": [
    "X_train.shape"
   ]
  },
  {
   "cell_type": "code",
   "execution_count": 28,
   "id": "8cb75c79",
   "metadata": {},
   "outputs": [
    {
     "name": "stdout",
     "output_type": "stream",
     "text": [
      "Epoch 1/100\n",
      "800/800 [==============================] - 3s 2ms/step - loss: 0.4298 - accuracy: 0.8133 - val_loss: 0.3766 - val_accuracy: 0.8445\n",
      "Epoch 2/100\n",
      "800/800 [==============================] - 1s 2ms/step - loss: 0.3687 - accuracy: 0.8504 - val_loss: 0.3547 - val_accuracy: 0.8640\n",
      "Epoch 3/100\n",
      "800/800 [==============================] - 1s 2ms/step - loss: 0.3586 - accuracy: 0.8533 - val_loss: 0.3530 - val_accuracy: 0.8590\n",
      "Epoch 4/100\n",
      "800/800 [==============================] - 1s 2ms/step - loss: 0.3534 - accuracy: 0.8568 - val_loss: 0.3503 - val_accuracy: 0.8630\n",
      "Epoch 5/100\n",
      "800/800 [==============================] - 1s 2ms/step - loss: 0.3520 - accuracy: 0.8555 - val_loss: 0.3515 - val_accuracy: 0.8585\n",
      "Epoch 6/100\n",
      "800/800 [==============================] - 2s 2ms/step - loss: 0.3496 - accuracy: 0.8569 - val_loss: 0.3507 - val_accuracy: 0.8605\n",
      "Epoch 7/100\n",
      "800/800 [==============================] - 2s 2ms/step - loss: 0.3483 - accuracy: 0.8580 - val_loss: 0.3590 - val_accuracy: 0.8575\n",
      "Epoch 8/100\n",
      "800/800 [==============================] - 1s 2ms/step - loss: 0.3474 - accuracy: 0.8615 - val_loss: 0.3440 - val_accuracy: 0.8600\n",
      "Epoch 9/100\n",
      "800/800 [==============================] - 1s 2ms/step - loss: 0.3468 - accuracy: 0.8574 - val_loss: 0.3439 - val_accuracy: 0.8600\n",
      "Epoch 10/100\n",
      "800/800 [==============================] - 1s 2ms/step - loss: 0.3446 - accuracy: 0.8584 - val_loss: 0.3408 - val_accuracy: 0.8625\n",
      "Epoch 11/100\n",
      "800/800 [==============================] - 1s 2ms/step - loss: 0.3434 - accuracy: 0.8616 - val_loss: 0.3366 - val_accuracy: 0.8670\n",
      "Epoch 12/100\n",
      "800/800 [==============================] - 1s 2ms/step - loss: 0.3421 - accuracy: 0.8609 - val_loss: 0.3447 - val_accuracy: 0.8540\n",
      "Epoch 13/100\n",
      "800/800 [==============================] - 2s 2ms/step - loss: 0.3448 - accuracy: 0.8599 - val_loss: 0.3522 - val_accuracy: 0.8555\n",
      "Epoch 14/100\n",
      "800/800 [==============================] - 1s 2ms/step - loss: 0.3412 - accuracy: 0.8600 - val_loss: 0.3439 - val_accuracy: 0.8640\n",
      "Epoch 15/100\n",
      "800/800 [==============================] - 1s 2ms/step - loss: 0.3407 - accuracy: 0.8583 - val_loss: 0.3387 - val_accuracy: 0.8605\n",
      "Epoch 16/100\n",
      "800/800 [==============================] - 1s 2ms/step - loss: 0.3404 - accuracy: 0.8618 - val_loss: 0.3454 - val_accuracy: 0.8595\n",
      "Epoch 00016: early stopping\n"
     ]
    }
   ],
   "source": [
    "model_history=classifier.fit(X_train,y_train,validation_data=(X_test,y_test),batch_size=10,epochs=100,callbacks=early_stopping)"
   ]
  },
  {
   "cell_type": "code",
   "execution_count": 29,
   "id": "50a6f9d6",
   "metadata": {},
   "outputs": [
    {
     "data": {
      "text/plain": [
       "dict_keys(['loss', 'accuracy', 'val_loss', 'val_accuracy'])"
      ]
     },
     "execution_count": 29,
     "metadata": {},
     "output_type": "execute_result"
    }
   ],
   "source": [
    "model_history.history.keys()"
   ]
  },
  {
   "cell_type": "code",
   "execution_count": 30,
   "id": "b4d34837",
   "metadata": {},
   "outputs": [
    {
     "data": {
      "image/png": "[encoded data removed]",
      "text/plain": [
       "<Figure size 640x480 with 1 Axes>"
      ]
     },
     "metadata": {},
     "output_type": "display_data"
    }
   ],
   "source": [
    "# summarize history for accuracy\n",
    "plt.plot(model_history.history['accuracy'])\n",
    "plt.plot(model_history.history['val_accuracy'])\n",
    "plt.title('model accuracy')\n",
    "plt.ylabel('accuracy')\n",
    "plt.xlabel('epoch')\n",
    "plt.legend(['train', 'test'], loc='upper left')\n",
    "plt.show()"
   ]
  },
  {
   "cell_type": "code",
   "execution_count": 31,
   "id": "9ca8b72a",
   "metadata": {},
   "outputs": [
    {
     "data": {
      "image/png": "[encoded data removed]",
      "text/plain": [
       "<Figure size 640x480 with 1 Axes>"
      ]
     },
     "metadata": {},
     "output_type": "display_data"
    }
   ],
   "source": [
    "# summarize history for loss\n",
    "plt.plot(model_history.history['loss'])\n",
    "plt.plot(model_history.history['val_loss'])\n",
    "plt.title('model loss')\n",
    "plt.ylabel('loss')\n",
    "plt.xlabel('epoch')\n",
    "plt.legend(['train', 'test'], loc='upper left')\n",
    "plt.show()"
   ]
  },
  {
   "cell_type": "code",
   "execution_count": 32,
   "id": "54d214e2",
   "metadata": {},
   "outputs": [],
   "source": [
    "# Part 3 - Making the predictions and evaluating the model\n",
    "\n",
    "# Predicting the Test set results\n",
    "y_pred = classifier.predict(X_test)\n",
    "y_pred = (y_pred >= 0.5)"
   ]
  },
  {
   "cell_type": "code",
   "execution_count": 33,
   "id": "c70a12d8",
   "metadata": {},
   "outputs": [
    {
     "data": {
      "text/plain": [
       "array([[1565,   30],\n",
       "       [ 251,  154]], dtype=int64)"
      ]
     },
     "execution_count": 33,
     "metadata": {},
     "output_type": "execute_result"
    }
   ],
   "source": [
    "## make the confusion matrix\n",
    "from sklearn.metrics import confusion_matrix\n",
    "cm=confusion_matrix(y_test,y_pred)\n",
    "cm"
   ]
  },
  {
   "cell_type": "code",
   "execution_count": 34,
   "id": "361b3bfa",
   "metadata": {},
   "outputs": [],
   "source": [
    "## Calculate the accuracy\n",
    "from sklearn.metrics import accuracy_score\n",
    "score=accuracy_score(y_pred,y_test)"
   ]
  },
  {
   "cell_type": "code",
   "execution_count": 35,
   "id": "f8924964",
   "metadata": {},
   "outputs": [
    {
     "data": {
      "text/plain": [
       "0.8595"
      ]
     },
     "execution_count": 35,
     "metadata": {},
     "output_type": "execute_result"
    }
   ],
   "source": [
    "score"
   ]
  },
  {
   "cell_type": "code",
   "execution_count": 36,
   "id": "75f6414a",
   "metadata": {},
   "outputs": [
    {
     "data": {
      "text/plain": [
       "[array([[-3.1401366e-01,  8.6647741e-02, -2.2594863e-01, -4.0944052e-01,\n",
       "         -1.1952983e-01, -1.4666790e-02, -2.1141507e-01, -2.5536138e-01,\n",
       "          2.4759705e-01,  7.2060049e-01],\n",
       "        [-4.3267325e-01, -2.4156439e+00,  9.8504347e-01, -2.2565820e+00,\n",
       "         -2.2088356e+00, -2.6465626e+00,  1.7291423e+00, -1.3924205e-01,\n",
       "         -2.3709772e+00, -2.7575290e-01],\n",
       "        [-5.4158974e-01,  3.0251279e-01, -2.3544393e-02,  5.7156503e-01,\n",
       "         -4.9627393e-02, -4.6537182e-01, -1.1007661e-01, -6.9034600e-01,\n",
       "         -2.0032134e-02,  1.7077152e-01],\n",
       "        [ 1.1803100e+00, -1.3417520e-02,  2.4274719e-01,  1.0000796e+00,\n",
       "         -9.3111020e-01,  4.6011311e-01, -4.3971959e-01, -1.1144040e+00,\n",
       "          2.3374487e-01, -2.5401809e+00],\n",
       "        [ 2.2512550e+00, -9.1589727e-02,  2.5328193e+00, -1.2177062e+00,\n",
       "          2.5945482e-01, -4.7413528e-01, -4.7290528e-01, -3.4751282e+00,\n",
       "         -1.6804226e-01,  3.6227897e-02],\n",
       "        [ 8.9850970e-02, -3.4823710e-01, -8.4449388e-02,  4.0614912e-01,\n",
       "         -2.3398004e-01,  8.5723269e-01,  6.2741518e-02,  4.0726125e-01,\n",
       "          3.3087897e-01,  7.6121107e-02],\n",
       "        [ 2.2321106e-01, -7.0822901e-01, -2.9045242e-01, -3.4082127e-01,\n",
       "          3.1967574e-01,  1.4386973e+00,  2.0960929e+00, -9.6414191e-01,\n",
       "         -3.9576086e-01,  6.0370648e-01],\n",
       "        [-2.5556332e-01, -6.2631863e-01,  3.6995059e-01,  4.1321629e-01,\n",
       "         -5.8418638e-01,  1.1152166e+00, -5.0346594e-02,  3.4207034e-01,\n",
       "          1.4862804e-01,  2.6120825e-03],\n",
       "        [-1.1748633e+00, -1.1296797e+00, -1.5417401e-01, -2.5137329e-02,\n",
       "         -8.3126718e-01, -9.6921235e-02, -2.4352790e-01,  1.2405788e+00,\n",
       "          1.0616551e-01, -9.1695204e-02],\n",
       "        [ 3.9624444e-01,  1.7005751e-01,  1.8408893e-01,  3.1873310e-01,\n",
       "          5.8332182e-02,  1.0578144e+00, -7.5820416e-02, -2.0155622e-01,\n",
       "         -2.6951733e+00,  6.5563291e-01],\n",
       "        [ 3.1558746e-01, -4.2662844e-01, -7.3496602e-02, -3.2083920e-01,\n",
       "          1.2102331e+00,  4.4790968e-01,  5.4387122e-01,  7.9280220e-02,\n",
       "          3.5937041e-01,  2.4463238e-01]], dtype=float32),\n",
       " array([-2.0514042 ,  1.4452759 , -3.2546046 , -1.8994718 ,  1.2456379 ,\n",
       "         1.4573591 , -2.1105862 ,  0.58351445,  1.6346879 , -0.21704865],\n",
       "       dtype=float32),\n",
       " array([[-2.6846786 , -0.41978344, -3.0361872 , -0.57905596,  0.38979092,\n",
       "         -1.2593466 , -0.00560823,  0.1985719 , -1.1011891 ,  0.49758005],\n",
       "        [-0.54945314, -0.24386495, -0.6804739 , -0.650344  , -2.1809716 ,\n",
       "          0.28915057,  0.20839189,  0.59147835, -0.8702994 ,  0.28919047],\n",
       "        [-2.7294786 , -0.04607041, -0.09494945, -0.3920159 ,  0.97347236,\n",
       "         -1.4411641 , -2.2508519 ,  1.7961001 , -0.32722685,  1.0716025 ],\n",
       "        [-0.6200684 , -0.26494548,  0.7836256 , -0.03293766, -0.2931444 ,\n",
       "         -0.34837005, -1.5824805 ,  0.6597172 ,  0.1213694 , -1.2249411 ],\n",
       "        [ 0.16196725, -0.5801622 ,  0.65225303,  0.11750061, -1.2157545 ,\n",
       "          0.752956  ,  0.5853237 , -0.33751738, -2.1844628 , -0.30595756],\n",
       "        [-2.1051688 , -0.14722024, -0.23419309, -0.25142458, -0.78364044,\n",
       "          0.9027797 ,  0.60391706,  0.43978316, -2.0072978 , -0.7602533 ],\n",
       "        [-0.6437556 , -0.503741  , -0.1155842 , -0.6036781 , -1.7487363 ,\n",
       "         -0.19402969,  0.03433777, -1.354332  ,  1.3908318 , -0.7010999 ],\n",
       "        [ 0.6416693 , -0.13249539, -3.1823137 , -0.8073173 ,  0.54506683,\n",
       "         -1.2359776 , -2.4657938 , -0.58928144, -0.9980536 , -1.2337317 ],\n",
       "        [-1.5973817 , -0.31555334,  0.09024147, -0.12904716, -1.0138859 ,\n",
       "          0.96268034,  0.2378372 ,  0.2954174 , -0.36876768, -0.21738167],\n",
       "        [ 0.35411343, -0.41322348,  1.1487329 , -0.7159887 ,  0.2861305 ,\n",
       "         -0.59672046,  0.5538282 , -1.1429011 , -0.0107968 , -1.3653429 ]],\n",
       "       dtype=float32),\n",
       " array([ 0.17550565, -0.63355064, -0.01967379, -0.35598746,  1.5639535 ,\n",
       "         1.4636674 ,  0.5268635 , -2.670225  , -1.0163395 , -1.3001297 ],\n",
       "       dtype=float32),\n",
       " array([[-5.33385754e-01, -7.03959048e-01, -2.34953716e-01,\n",
       "          2.02638447e-01, -5.00879228e-01, -4.82210927e-02,\n",
       "         -9.89885747e-01, -1.40232801e-01, -2.95122445e-01,\n",
       "          4.98898000e-01],\n",
       "        [-1.28121182e-01, -1.10134870e-01,  3.45386118e-01,\n",
       "         -1.94070056e-01, -6.04886413e-02, -3.49327981e-01,\n",
       "          1.66265368e-01, -4.57170516e-01,  2.73289859e-01,\n",
       "          7.89199919e-02],\n",
       "        [-4.06227231e-01,  4.96195674e-01, -9.55515057e-02,\n",
       "          8.43879804e-02,  1.40357673e-01,  9.37961757e-01,\n",
       "         -3.35507393e-02, -3.56341004e-02, -2.38922030e-01,\n",
       "         -1.43967122e-01],\n",
       "        [ 6.03437960e-01,  1.17690034e-01,  3.16807598e-01,\n",
       "         -4.74001706e-01, -2.03012362e-01,  5.38291074e-02,\n",
       "          8.09747696e-01,  5.38457990e-01, -1.19656444e-01,\n",
       "         -7.35654593e-01],\n",
       "        [-2.75279969e-01, -2.77076989e-01,  3.35302092e-02,\n",
       "         -1.19611037e+00,  7.23247901e-02, -1.24587798e+00,\n",
       "         -5.96632183e-01, -1.34569228e-01, -2.30780691e-01,\n",
       "          7.66904175e-01],\n",
       "        [-2.11686268e-01, -1.02566051e+00, -1.07044935e+00,\n",
       "         -6.66538119e-01,  1.37465298e-01,  5.12098789e-01,\n",
       "         -1.76756799e-01, -4.85328913e-01, -3.57542634e-01,\n",
       "         -1.61578727e+00],\n",
       "        [ 1.28882974e-02, -4.79426563e-01, -5.46232104e-01,\n",
       "         -2.03739896e-01,  2.07947940e-02,  6.72397017e-01,\n",
       "         -2.24202588e-01, -5.86807728e-03, -7.70843029e-03,\n",
       "         -1.40799558e+00],\n",
       "        [-3.98104370e-04,  2.98311114e-01,  7.19878972e-02,\n",
       "         -9.43646953e-02, -4.99264330e-01, -3.17891210e-01,\n",
       "         -5.50945997e-01, -4.69150066e-01, -5.37990808e-01,\n",
       "          6.86217964e-01],\n",
       "        [-4.46335852e-01,  9.06007826e-01, -7.51360178e-01,\n",
       "          6.97615445e-02,  1.09400046e+00, -1.65308475e-01,\n",
       "         -5.47748983e-01, -4.57651019e-02, -1.45554692e-01,\n",
       "         -1.62009633e+00],\n",
       "        [-4.32072669e-01,  2.21269175e-01, -2.07648054e-01,\n",
       "         -8.50135505e-01,  6.66966811e-02,  1.39821067e-01,\n",
       "         -1.87065721e-01, -3.40449572e-01, -1.02706999e-01,\n",
       "          6.44809484e-01]], dtype=float32),\n",
       " array([-0.08535237, -0.1635055 , -0.15315591, -1.2220364 , -0.3535837 ,\n",
       "        -0.02533932, -0.37206507,  0.        , -0.21735676,  0.6634047 ],\n",
       "       dtype=float32),\n",
       " array([[-0.0072658 ],\n",
       "        [-0.40769237],\n",
       "        [-0.01092453],\n",
       "        [-0.14524233],\n",
       "        [-0.105925  ],\n",
       "        [-0.37335035],\n",
       "        [ 0.06354032],\n",
       "        [ 0.49088115],\n",
       "        [ 0.19250607],\n",
       "        [ 0.4576476 ]], dtype=float32),\n",
       " array([-0.89001733], dtype=float32)]"
      ]
     },
     "execution_count": 36,
     "metadata": {},
     "output_type": "execute_result"
    }
   ],
   "source": [
    "##get the weights\n",
    "classifier.get_weights()"
   ]
  },
  {
   "cell_type": "code",
   "execution_count": 37,
   "id": "7870c205",
   "metadata": {},
   "outputs": [],
   "source": [
    "## Saving h5 file\n",
    "classifier.save('model.h5')"
   ]
  },
  {
   "cell_type": "code",
   "execution_count": 38,
   "id": "924bd558",
   "metadata": {},
   "outputs": [],
   "source": [
    "##laoding h5 file\n",
    "from tensorflow import keras\n",
    "classifier1=keras.models.load_model('model.h5')"
   ]
  },
  {
   "cell_type": "code",
   "execution_count": 39,
   "id": "5231a978",
   "metadata": {},
   "outputs": [
    {
     "data": {
      "text/plain": [
       "array([[0.16071606],\n",
       "       [0.3574586 ],\n",
       "       [0.09634382],\n",
       "       ...,\n",
       "       [0.06171203],\n",
       "       [0.11801273],\n",
       "       [0.19148996]], dtype=float32)"
      ]
     },
     "execution_count": 39,
     "metadata": {},
     "output_type": "execute_result"
    }
   ],
   "source": [
    "classifier1.predict(X_test)"
   ]
  },
  {
   "cell_type": "code",
   "execution_count": 40,
   "id": "aa3e62f1",
   "metadata": {},
   "outputs": [
    {
     "data": {
      "text/html": [
       "<div>\n",
       "<style scoped>\n",
       "    .dataframe tbody tr th:only-of-type {\n",
       "        vertical-align: middle;\n",
       "    }\n",
       "\n",
       "    .dataframe tbody tr th {\n",
       "        vertical-align: top;\n",
       "    }\n",
       "\n",
       "    .dataframe thead th {\n",
       "        text-align: right;\n",
       "    }\n",
       "</style>\n",
       "<table border=\"1\" class=\"dataframe\">\n",
       "  <thead>\n",
       "    <tr style=\"text-align: right;\">\n",
       "      <th></th>\n",
       "      <th>RowNumber</th>\n",
       "      <th>CustomerId</th>\n",
       "      <th>Surname</th>\n",
       "      <th>CreditScore</th>\n",
       "      <th>Geography</th>\n",
       "      <th>Gender</th>\n",
       "      <th>Age</th>\n",
       "      <th>Tenure</th>\n",
       "      <th>Balance</th>\n",
       "      <th>NumOfProducts</th>\n",
       "      <th>HasCrCard</th>\n",
       "      <th>IsActiveMember</th>\n",
       "      <th>EstimatedSalary</th>\n",
       "      <th>Exited</th>\n",
       "    </tr>\n",
       "  </thead>\n",
       "  <tbody>\n",
       "    <tr>\n",
       "      <th>0</th>\n",
       "      <td>1</td>\n",
       "      <td>15634602</td>\n",
       "      <td>Hargrave</td>\n",
       "      <td>619</td>\n",
       "      <td>France</td>\n",
       "      <td>Female</td>\n",
       "      <td>42</td>\n",
       "      <td>2</td>\n",
       "      <td>0.00</td>\n",
       "      <td>1</td>\n",
       "      <td>1</td>\n",
       "      <td>1</td>\n",
       "      <td>101348.88</td>\n",
       "      <td>1</td>\n",
       "    </tr>\n",
       "    <tr>\n",
       "      <th>1</th>\n",
       "      <td>2</td>\n",
       "      <td>15647311</td>\n",
       "      <td>Hill</td>\n",
       "      <td>608</td>\n",
       "      <td>Spain</td>\n",
       "      <td>Female</td>\n",
       "      <td>41</td>\n",
       "      <td>1</td>\n",
       "      <td>83807.86</td>\n",
       "      <td>1</td>\n",
       "      <td>0</td>\n",
       "      <td>1</td>\n",
       "      <td>112542.58</td>\n",
       "      <td>0</td>\n",
       "    </tr>\n",
       "    <tr>\n",
       "      <th>2</th>\n",
       "      <td>3</td>\n",
       "      <td>15619304</td>\n",
       "      <td>Onio</td>\n",
       "      <td>502</td>\n",
       "      <td>France</td>\n",
       "      <td>Female</td>\n",
       "      <td>42</td>\n",
       "      <td>8</td>\n",
       "      <td>159660.80</td>\n",
       "      <td>3</td>\n",
       "      <td>1</td>\n",
       "      <td>0</td>\n",
       "      <td>113931.57</td>\n",
       "      <td>1</td>\n",
       "    </tr>\n",
       "    <tr>\n",
       "      <th>3</th>\n",
       "      <td>4</td>\n",
       "      <td>15701354</td>\n",
       "      <td>Boni</td>\n",
       "      <td>699</td>\n",
       "      <td>France</td>\n",
       "      <td>Female</td>\n",
       "      <td>39</td>\n",
       "      <td>1</td>\n",
       "      <td>0.00</td>\n",
       "      <td>2</td>\n",
       "      <td>0</td>\n",
       "      <td>0</td>\n",
       "      <td>93826.63</td>\n",
       "      <td>0</td>\n",
       "    </tr>\n",
       "    <tr>\n",
       "      <th>4</th>\n",
       "      <td>5</td>\n",
       "      <td>15737888</td>\n",
       "      <td>Mitchell</td>\n",
       "      <td>850</td>\n",
       "      <td>Spain</td>\n",
       "      <td>Female</td>\n",
       "      <td>43</td>\n",
       "      <td>2</td>\n",
       "      <td>125510.82</td>\n",
       "      <td>1</td>\n",
       "      <td>1</td>\n",
       "      <td>1</td>\n",
       "      <td>79084.10</td>\n",
       "      <td>0</td>\n",
       "    </tr>\n",
       "  </tbody>\n",
       "</table>\n",
       "</div>"
      ],
      "text/plain": [
       "   RowNumber  CustomerId   Surname  CreditScore Geography  Gender  Age  \\\n",
       "0          1    15634602  Hargrave          619    France  Female   42   \n",
       "1          2    15647311      Hill          608     Spain  Female   41   \n",
       "2          3    15619304      Onio          502    France  Female   42   \n",
       "3          4    15701354      Boni          699    France  Female   39   \n",
       "4          5    15737888  Mitchell          850     Spain  Female   43   \n",
       "\n",
       "   Tenure    Balance  NumOfProducts  HasCrCard  IsActiveMember  \\\n",
       "0       2       0.00              1          1               1   \n",
       "1       1   83807.86              1          0               1   \n",
       "2       8  159660.80              3          1               0   \n",
       "3       1       0.00              2          0               0   \n",
       "4       2  125510.82              1          1               1   \n",
       "\n",
       "   EstimatedSalary  Exited  \n",
       "0        101348.88       1  \n",
       "1        112542.58       0  \n",
       "2        113931.57       1  \n",
       "3         93826.63       0  \n",
       "4         79084.10       0  "
      ]
     },
     "execution_count": 40,
     "metadata": {},
     "output_type": "execute_result"
    }
   ],
   "source": [
    "dataset.head()"
   ]
  },
  {
   "cell_type": "code",
   "execution_count": 41,
   "id": "30597ef5",
   "metadata": {},
   "outputs": [
    {
     "data": {
      "text/plain": [
       "Index(['RowNumber', 'CustomerId', 'Surname', 'CreditScore', 'Geography',\n",
       "       'Gender', 'Age', 'Tenure', 'Balance', 'NumOfProducts', 'HasCrCard',\n",
       "       'IsActiveMember', 'EstimatedSalary', 'Exited'],\n",
       "      dtype='object')"
      ]
     },
     "execution_count": 41,
     "metadata": {},
     "output_type": "execute_result"
    }
   ],
   "source": [
    "dataset.columns"
   ]
  },
  {
   "cell_type": "code",
   "execution_count": 42,
   "id": "c600255f",
   "metadata": {},
   "outputs": [],
   "source": [
    "## Regression\n",
    "## Divide the dataset into independent and dependent features\n",
    "\n",
    "X=dataset[['CreditScore', 'Geography',\n",
    "       'Gender', 'Age', 'Tenure', 'Balance', 'NumOfProducts', 'HasCrCard',\n",
    "       'IsActiveMember','Exited']]\n",
    "y=dataset.iloc[:,12]"
   ]
  },
  {
   "cell_type": "code",
   "execution_count": 43,
   "id": "6e7b3eda",
   "metadata": {},
   "outputs": [
    {
     "data": {
      "text/html": [
       "<div>\n",
       "<style scoped>\n",
       "    .dataframe tbody tr th:only-of-type {\n",
       "        vertical-align: middle;\n",
       "    }\n",
       "\n",
       "    .dataframe tbody tr th {\n",
       "        vertical-align: top;\n",
       "    }\n",
       "\n",
       "    .dataframe thead th {\n",
       "        text-align: right;\n",
       "    }\n",
       "</style>\n",
       "<table border=\"1\" class=\"dataframe\">\n",
       "  <thead>\n",
       "    <tr style=\"text-align: right;\">\n",
       "      <th></th>\n",
       "      <th>CreditScore</th>\n",
       "      <th>Geography</th>\n",
       "      <th>Gender</th>\n",
       "      <th>Age</th>\n",
       "      <th>Tenure</th>\n",
       "      <th>Balance</th>\n",
       "      <th>NumOfProducts</th>\n",
       "      <th>HasCrCard</th>\n",
       "      <th>IsActiveMember</th>\n",
       "      <th>Exited</th>\n",
       "    </tr>\n",
       "  </thead>\n",
       "  <tbody>\n",
       "    <tr>\n",
       "      <th>0</th>\n",
       "      <td>619</td>\n",
       "      <td>France</td>\n",
       "      <td>Female</td>\n",
       "      <td>42</td>\n",
       "      <td>2</td>\n",
       "      <td>0.00</td>\n",
       "      <td>1</td>\n",
       "      <td>1</td>\n",
       "      <td>1</td>\n",
       "      <td>1</td>\n",
       "    </tr>\n",
       "    <tr>\n",
       "      <th>1</th>\n",
       "      <td>608</td>\n",
       "      <td>Spain</td>\n",
       "      <td>Female</td>\n",
       "      <td>41</td>\n",
       "      <td>1</td>\n",
       "      <td>83807.86</td>\n",
       "      <td>1</td>\n",
       "      <td>0</td>\n",
       "      <td>1</td>\n",
       "      <td>0</td>\n",
       "    </tr>\n",
       "    <tr>\n",
       "      <th>2</th>\n",
       "      <td>502</td>\n",
       "      <td>France</td>\n",
       "      <td>Female</td>\n",
       "      <td>42</td>\n",
       "      <td>8</td>\n",
       "      <td>159660.80</td>\n",
       "      <td>3</td>\n",
       "      <td>1</td>\n",
       "      <td>0</td>\n",
       "      <td>1</td>\n",
       "    </tr>\n",
       "    <tr>\n",
       "      <th>3</th>\n",
       "      <td>699</td>\n",
       "      <td>France</td>\n",
       "      <td>Female</td>\n",
       "      <td>39</td>\n",
       "      <td>1</td>\n",
       "      <td>0.00</td>\n",
       "      <td>2</td>\n",
       "      <td>0</td>\n",
       "      <td>0</td>\n",
       "      <td>0</td>\n",
       "    </tr>\n",
       "    <tr>\n",
       "      <th>4</th>\n",
       "      <td>850</td>\n",
       "      <td>Spain</td>\n",
       "      <td>Female</td>\n",
       "      <td>43</td>\n",
       "      <td>2</td>\n",
       "      <td>125510.82</td>\n",
       "      <td>1</td>\n",
       "      <td>1</td>\n",
       "      <td>1</td>\n",
       "      <td>0</td>\n",
       "    </tr>\n",
       "  </tbody>\n",
       "</table>\n",
       "</div>"
      ],
      "text/plain": [
       "   CreditScore Geography  Gender  Age  Tenure    Balance  NumOfProducts  \\\n",
       "0          619    France  Female   42       2       0.00              1   \n",
       "1          608     Spain  Female   41       1   83807.86              1   \n",
       "2          502    France  Female   42       8  159660.80              3   \n",
       "3          699    France  Female   39       1       0.00              2   \n",
       "4          850     Spain  Female   43       2  125510.82              1   \n",
       "\n",
       "   HasCrCard  IsActiveMember  Exited  \n",
       "0          1               1       1  \n",
       "1          0               1       0  \n",
       "2          1               0       1  \n",
       "3          0               0       0  \n",
       "4          1               1       0  "
      ]
     },
     "execution_count": 43,
     "metadata": {},
     "output_type": "execute_result"
    }
   ],
   "source": [
    "X.head()"
   ]
  },
  {
   "cell_type": "code",
   "execution_count": 44,
   "id": "cda3b666",
   "metadata": {},
   "outputs": [
    {
     "data": {
      "text/plain": [
       "0       101348.88\n",
       "1       112542.58\n",
       "2       113931.57\n",
       "3        93826.63\n",
       "4        79084.10\n",
       "          ...    \n",
       "9995     96270.64\n",
       "9996    101699.77\n",
       "9997     42085.58\n",
       "9998     92888.52\n",
       "9999     38190.78\n",
       "Name: EstimatedSalary, Length: 10000, dtype: float64"
      ]
     },
     "execution_count": 44,
     "metadata": {},
     "output_type": "execute_result"
    }
   ],
   "source": [
    "y"
   ]
  },
  {
   "cell_type": "code",
   "execution_count": 45,
   "id": "d30b5a89",
   "metadata": {},
   "outputs": [],
   "source": [
    "## Ferature Engineering \n",
    "geography=pd.get_dummies(X['Geography'],drop_first=True)\n",
    "gender=pd.get_dummies(X['Gender'],drop_first=True)\n",
    "## concatenate these variables with dataframe\n",
    "X=X.drop(['Geography','Gender'],axis=1)\n",
    "X=pd.concat([X,geography,gender],axis=1) \n",
    "#Splitting the dataset into Training set and Test Set\n",
    "from sklearn.model_selection import train_test_split\n",
    "\n",
    "X_train,X_test,y_train,y_test=train_test_split(X,y,test_size=0.2,random_state=0)\n",
    "\n",
    "#feature Scaling\n",
    "\n",
    "from sklearn.preprocessing import StandardScaler\n",
    "sc =StandardScaler()\n",
    "X_train=sc.fit_transform(X_train)\n",
    "X_test=sc.transform(X_test)\n",
    "\n",
    "### Lets initialize the ANN\n",
    "regressor=Sequential()\n",
    "## Adding the input Layer and first hidden layer\n",
    "regressor.add(Dense(10,input_shape=(11,),activation='relu'))\n",
    "\n",
    "\n",
    "# adding the first hidden layer\n",
    "regressor.add(Dense(units=10,activation='relu'))\n",
    "#regressor.add(Dropout(0.2))\n",
    "\n",
    "##adding the second hidden layer\n",
    "regressor.add(Dense(units=10,activation='relu'))\n",
    "#regressor.add(Dropout(0.3))\n",
    "\n",
    "##  Adding the output layer\n",
    "regressor.add(Dense(1))"
   ]
  },
  {
   "cell_type": "code",
   "execution_count": 46,
   "id": "777be738",
   "metadata": {},
   "outputs": [
    {
     "name": "stdout",
     "output_type": "stream",
     "text": [
      "Model: \"sequential_1\"\n",
      "_________________________________________________________________\n",
      "Layer (type)                 Output Shape              Param #   \n",
      "=================================================================\n",
      "dense_4 (Dense)              (None, 10)                120       \n",
      "_________________________________________________________________\n",
      "dense_5 (Dense)              (None, 10)                110       \n",
      "_________________________________________________________________\n",
      "dense_6 (Dense)              (None, 10)                110       \n",
      "_________________________________________________________________\n",
      "dense_7 (Dense)              (None, 1)                 11        \n",
      "=================================================================\n",
      "Total params: 351\n",
      "Trainable params: 351\n",
      "Non-trainable params: 0\n",
      "_________________________________________________________________\n"
     ]
    }
   ],
   "source": [
    "regressor.summary()"
   ]
  },
  {
   "cell_type": "code",
   "execution_count": 47,
   "id": "864494bb",
   "metadata": {},
   "outputs": [],
   "source": [
    "import tensorflow\n",
    "mse=tensorflow.keras.losses.MeanSquaredError(\n",
    "    name='mean_squared_error'\n",
    ")\n",
    "metrics=tensorflow.keras.metrics.MeanSquaredError(\n",
    "    name='mean_squared_error', dtype=None\n",
    ")"
   ]
  },
  {
   "cell_type": "code",
   "execution_count": 48,
   "id": "c24c285d",
   "metadata": {},
   "outputs": [],
   "source": [
    "regressor.compile(optimizer=opt,loss=mse,metrics=['mae'])"
   ]
  },
  {
   "cell_type": "code",
   "execution_count": 49,
   "id": "686d1f4e",
   "metadata": {},
   "outputs": [],
   "source": [
    "## Early Stopping\n",
    "import tensorflow as tf\n",
    "early_stopping=tf.keras.callbacks.EarlyStopping(\n",
    "    monitor=\"mae\",\n",
    "    patience=20\n",
    "   \n",
    ")"
   ]
  },
  {
   "cell_type": "code",
   "execution_count": 50,
   "id": "121c25ba",
   "metadata": {},
   "outputs": [
    {
     "name": "stdout",
     "output_type": "stream",
     "text": [
      "Epoch 1/100\n",
      "800/800 [==============================] - 2s 2ms/step - loss: 4037850624.0000 - mae: 53209.0117 - val_loss: 3373266944.0000 - val_mae: 49832.6250\n",
      "Epoch 2/100\n",
      "800/800 [==============================] - 1s 2ms/step - loss: 3356283648.0000 - mae: 49840.7969 - val_loss: 3346824960.0000 - val_mae: 49779.8047\n",
      "Epoch 3/100\n",
      "800/800 [==============================] - 1s 2ms/step - loss: 3336314624.0000 - mae: 49785.0156 - val_loss: 3350650368.0000 - val_mae: 49750.9453\n",
      "Epoch 4/100\n",
      "800/800 [==============================] - 1s 2ms/step - loss: 3334617344.0000 - mae: 49728.1680 - val_loss: 3323028224.0000 - val_mae: 49564.8555\n",
      "Epoch 5/100\n",
      "800/800 [==============================] - 1s 2ms/step - loss: 3327270400.0000 - mae: 49702.8008 - val_loss: 3344398336.0000 - val_mae: 49721.8594\n",
      "Epoch 6/100\n",
      "800/800 [==============================] - 1s 2ms/step - loss: 3324098560.0000 - mae: 49653.4961 - val_loss: 3378411520.0000 - val_mae: 49961.1406\n",
      "Epoch 7/100\n",
      "800/800 [==============================] - 1s 2ms/step - loss: 3327099136.0000 - mae: 49667.3516 - val_loss: 3334043648.0000 - val_mae: 49672.7109\n",
      "Epoch 8/100\n",
      "800/800 [==============================] - 1s 2ms/step - loss: 3315760128.0000 - mae: 49611.4258 - val_loss: 3341418496.0000 - val_mae: 49720.5273\n",
      "Epoch 9/100\n",
      "800/800 [==============================] - 1s 2ms/step - loss: 3316713728.0000 - mae: 49636.6094 - val_loss: 3334775552.0000 - val_mae: 49632.1992\n",
      "Epoch 10/100\n",
      "800/800 [==============================] - 1s 2ms/step - loss: 3313181440.0000 - mae: 49621.0117 - val_loss: 3344804352.0000 - val_mae: 49666.3477\n",
      "Epoch 11/100\n",
      "800/800 [==============================] - 1s 2ms/step - loss: 3317942272.0000 - mae: 49646.7969 - val_loss: 3392829184.0000 - val_mae: 49965.3516\n",
      "Epoch 12/100\n",
      "800/800 [==============================] - 1s 2ms/step - loss: 3315303424.0000 - mae: 49683.7188 - val_loss: 3329865728.0000 - val_mae: 49667.9414\n",
      "Epoch 13/100\n",
      "800/800 [==============================] - 1s 2ms/step - loss: 3310478336.0000 - mae: 49637.4258 - val_loss: 3345411840.0000 - val_mae: 49783.9648\n",
      "Epoch 14/100\n",
      "800/800 [==============================] - 1s 2ms/step - loss: 3308627456.0000 - mae: 49567.2578 - val_loss: 3341344000.0000 - val_mae: 49731.1836\n",
      "Epoch 15/100\n",
      "800/800 [==============================] - 1s 2ms/step - loss: 3302956544.0000 - mae: 49532.5781 - val_loss: 3346044928.0000 - val_mae: 49754.6094\n",
      "Epoch 16/100\n",
      "800/800 [==============================] - 1s 2ms/step - loss: 3304360448.0000 - mae: 49579.7891 - val_loss: 3354547712.0000 - val_mae: 49795.4883\n",
      "Epoch 17/100\n",
      "800/800 [==============================] - 1s 2ms/step - loss: 3306346496.0000 - mae: 49559.8359 - val_loss: 3340124416.0000 - val_mae: 49654.3125\n",
      "Epoch 18/100\n",
      "800/800 [==============================] - 1s 2ms/step - loss: 3308956416.0000 - mae: 49557.5977 - val_loss: 3346586624.0000 - val_mae: 49734.9258\n",
      "Epoch 19/100\n",
      "800/800 [==============================] - 1s 2ms/step - loss: 3303897856.0000 - mae: 49526.3164 - val_loss: 3344263168.0000 - val_mae: 49788.1875\n",
      "Epoch 20/100\n",
      "800/800 [==============================] - 1s 2ms/step - loss: 3304219392.0000 - mae: 49555.4023 - val_loss: 3333649664.0000 - val_mae: 49595.9062\n",
      "Epoch 21/100\n",
      "800/800 [==============================] - 1s 2ms/step - loss: 3303956224.0000 - mae: 49563.4258 - val_loss: 3354127616.0000 - val_mae: 49725.7031\n",
      "Epoch 22/100\n",
      "800/800 [==============================] - 1s 2ms/step - loss: 3302598144.0000 - mae: 49554.2695 - val_loss: 3352432896.0000 - val_mae: 49806.5117\n",
      "Epoch 23/100\n",
      "800/800 [==============================] - 1s 2ms/step - loss: 3302505984.0000 - mae: 49526.3164 - val_loss: 3326459648.0000 - val_mae: 49639.7539\n",
      "Epoch 24/100\n",
      "800/800 [==============================] - 2s 2ms/step - loss: 3301807616.0000 - mae: 49568.9023 - val_loss: 3336963328.0000 - val_mae: 49673.2383\n",
      "Epoch 25/100\n",
      "800/800 [==============================] - 2s 2ms/step - loss: 3302153472.0000 - mae: 49546.2461 - val_loss: 3408168448.0000 - val_mae: 50069.8828\n",
      "Epoch 26/100\n",
      "800/800 [==============================] - 1s 2ms/step - loss: 3309691904.0000 - mae: 49579.5039 - val_loss: 3328059904.0000 - val_mae: 49655.8164\n",
      "Epoch 27/100\n",
      "800/800 [==============================] - 2s 2ms/step - loss: 3300307712.0000 - mae: 49528.6602 - val_loss: 3351486976.0000 - val_mae: 49751.9297\n",
      "Epoch 28/100\n",
      "800/800 [==============================] - 2s 2ms/step - loss: 3296107008.0000 - mae: 49508.7852 - val_loss: 3345307136.0000 - val_mae: 49675.7422\n",
      "Epoch 29/100\n",
      "800/800 [==============================] - 2s 2ms/step - loss: 3296231680.0000 - mae: 49458.0078 - val_loss: 3347618560.0000 - val_mae: 49822.4844\n",
      "Epoch 30/100\n",
      "800/800 [==============================] - 2s 2ms/step - loss: 3301593088.0000 - mae: 49570.7734 - val_loss: 3345141504.0000 - val_mae: 49786.0391\n",
      "Epoch 31/100\n",
      "800/800 [==============================] - 1s 2ms/step - loss: 3301536000.0000 - mae: 49545.0000 - val_loss: 3339846912.0000 - val_mae: 49695.1953\n",
      "Epoch 32/100\n",
      "800/800 [==============================] - 1s 2ms/step - loss: 3300483328.0000 - mae: 49542.9961 - val_loss: 3343737088.0000 - val_mae: 49732.4219\n",
      "Epoch 33/100\n",
      "800/800 [==============================] - 1s 2ms/step - loss: 3294577152.0000 - mae: 49457.1289 - val_loss: 3349479680.0000 - val_mae: 49746.8008\n",
      "Epoch 34/100\n",
      "800/800 [==============================] - 1s 2ms/step - loss: 3297559808.0000 - mae: 49481.6133 - val_loss: 3340203264.0000 - val_mae: 49738.4453\n",
      "Epoch 35/100\n",
      "800/800 [==============================] - 1s 2ms/step - loss: 3297444352.0000 - mae: 49503.6289 - val_loss: 3350790144.0000 - val_mae: 49797.9336\n",
      "Epoch 36/100\n",
      "800/800 [==============================] - 1s 2ms/step - loss: 3296800000.0000 - mae: 49508.9375 - val_loss: 3338333696.0000 - val_mae: 49703.6289\n",
      "Epoch 37/100\n",
      "800/800 [==============================] - 1s 2ms/step - loss: 3295094528.0000 - mae: 49458.4023 - val_loss: 3341788160.0000 - val_mae: 49631.2227\n",
      "Epoch 38/100\n",
      "800/800 [==============================] - 1s 2ms/step - loss: 3294634496.0000 - mae: 49521.8828 - val_loss: 3357803264.0000 - val_mae: 49856.9062\n",
      "Epoch 39/100\n",
      "800/800 [==============================] - 1s 2ms/step - loss: 3299547136.0000 - mae: 49497.7227 - val_loss: 3354255104.0000 - val_mae: 49797.6055\n",
      "Epoch 40/100\n",
      "800/800 [==============================] - 2s 2ms/step - loss: 3300625920.0000 - mae: 49551.8438 - val_loss: 3343177472.0000 - val_mae: 49782.5078\n",
      "Epoch 41/100\n",
      "800/800 [==============================] - 1s 2ms/step - loss: 3299232000.0000 - mae: 49475.9648 - val_loss: 3344308480.0000 - val_mae: 49794.3789\n",
      "Epoch 42/100\n",
      "800/800 [==============================] - 1s 2ms/step - loss: 3294955520.0000 - mae: 49506.7188 - val_loss: 3350977536.0000 - val_mae: 49723.9727\n",
      "Epoch 43/100\n",
      "800/800 [==============================] - 1s 2ms/step - loss: 3300181504.0000 - mae: 49516.7148 - val_loss: 3351933184.0000 - val_mae: 49806.1914\n",
      "Epoch 44/100\n",
      "800/800 [==============================] - 1s 2ms/step - loss: 3290602240.0000 - mae: 49404.7188 - val_loss: 3352715776.0000 - val_mae: 49845.0586\n",
      "Epoch 45/100\n",
      "800/800 [==============================] - 1s 2ms/step - loss: 3297994240.0000 - mae: 49514.8281 - val_loss: 3345618688.0000 - val_mae: 49766.4297\n",
      "Epoch 46/100\n",
      "800/800 [==============================] - 1s 2ms/step - loss: 3294977792.0000 - mae: 49494.2891 - val_loss: 3354303488.0000 - val_mae: 49852.0703\n",
      "Epoch 47/100\n",
      "800/800 [==============================] - 1s 2ms/step - loss: 3295504640.0000 - mae: 49512.2930 - val_loss: 3343200768.0000 - val_mae: 49719.7812\n",
      "Epoch 48/100\n",
      "800/800 [==============================] - 1s 2ms/step - loss: 3294059520.0000 - mae: 49470.0195 - val_loss: 3360349184.0000 - val_mae: 49878.6836\n",
      "Epoch 49/100\n",
      "800/800 [==============================] - 1s 2ms/step - loss: 3297082368.0000 - mae: 49488.3164 - val_loss: 3332414464.0000 - val_mae: 49709.0625\n",
      "Epoch 50/100\n",
      "800/800 [==============================] - 1s 2ms/step - loss: 3298302464.0000 - mae: 49500.7344 - val_loss: 3337753600.0000 - val_mae: 49724.5625\n",
      "Epoch 51/100\n",
      "800/800 [==============================] - 1s 2ms/step - loss: 3294846208.0000 - mae: 49495.1602 - val_loss: 3333767680.0000 - val_mae: 49675.5156\n",
      "Epoch 52/100\n",
      "800/800 [==============================] - 2s 2ms/step - loss: 3295854848.0000 - mae: 49477.6484 - val_loss: 3355149312.0000 - val_mae: 49812.1602\n",
      "Epoch 53/100\n",
      "800/800 [==============================] - 2s 2ms/step - loss: 3298274560.0000 - mae: 49503.9141 - val_loss: 3342058752.0000 - val_mae: 49759.9883\n",
      "Epoch 54/100\n",
      "800/800 [==============================] - 2s 2ms/step - loss: 3293675264.0000 - mae: 49486.5352 - val_loss: 3341824256.0000 - val_mae: 49714.9336\n",
      "Epoch 55/100\n",
      "800/800 [==============================] - 2s 2ms/step - loss: 3296912640.0000 - mae: 49471.7969 - val_loss: 3338622208.0000 - val_mae: 49691.2695\n",
      "Epoch 56/100\n",
      "800/800 [==============================] - 2s 3ms/step - loss: 3296764928.0000 - mae: 49516.4648 - val_loss: 3335266560.0000 - val_mae: 49685.2812\n",
      "Epoch 57/100\n",
      "800/800 [==============================] - 2s 2ms/step - loss: 3292675072.0000 - mae: 49456.3789 - val_loss: 3347314944.0000 - val_mae: 49813.1953\n",
      "Epoch 58/100\n",
      "800/800 [==============================] - 2s 2ms/step - loss: 3293809920.0000 - mae: 49461.2188 - val_loss: 3323992576.0000 - val_mae: 49584.0547\n",
      "Epoch 59/100\n",
      "800/800 [==============================] - 2s 2ms/step - loss: 3295224832.0000 - mae: 49503.2109 - val_loss: 3350957312.0000 - val_mae: 49776.8594\n",
      "Epoch 60/100\n",
      "800/800 [==============================] - 2s 3ms/step - loss: 3291209728.0000 - mae: 49433.1992 - val_loss: 3346115840.0000 - val_mae: 49780.6992\n",
      "Epoch 61/100\n",
      "800/800 [==============================] - 2s 2ms/step - loss: 3297724672.0000 - mae: 49517.8320 - val_loss: 3347190016.0000 - val_mae: 49753.4805\n",
      "Epoch 62/100\n",
      "800/800 [==============================] - 2s 2ms/step - loss: 3293634304.0000 - mae: 49439.7383 - val_loss: 3340422144.0000 - val_mae: 49719.6406\n",
      "Epoch 63/100\n",
      "800/800 [==============================] - 2s 3ms/step - loss: 3289319424.0000 - mae: 49416.0117 - val_loss: 3383614208.0000 - val_mae: 49997.4766\n",
      "Epoch 64/100\n",
      "800/800 [==============================] - 2s 2ms/step - loss: 3293258240.0000 - mae: 49456.2695 - val_loss: 3342719232.0000 - val_mae: 49731.8164\n"
     ]
    }
   ],
   "source": [
    "model_history=regressor.fit(X_train,y_train,validation_data=(X_test,y_test),batch_size=10,epochs=100,callbacks=early_stopping)"
   ]
  },
  {
   "cell_type": "code",
   "execution_count": null,
   "id": "e05abd97",
   "metadata": {},
   "outputs": [],
   "source": []
  },
  {
   "cell_type": "code",
   "execution_count": 51,
   "id": "654fced3",
   "metadata": {},
   "outputs": [],
   "source": [
    "y_pred=regressor.predict(X_test)"
   ]
  },
  {
   "cell_type": "code",
   "execution_count": 52,
   "id": "eaf1b766",
   "metadata": {},
   "outputs": [
    {
     "data": {
      "text/plain": [
       "array([[105843.67 ],\n",
       "       [ 99677.89 ],\n",
       "       [ 99958.49 ],\n",
       "       ...,\n",
       "       [ 98091.96 ],\n",
       "       [ 96865.96 ],\n",
       "       [ 99225.914]], dtype=float32)"
      ]
     },
     "execution_count": 52,
     "metadata": {},
     "output_type": "execute_result"
    }
   ],
   "source": [
    "y_pred"
   ]
  }
 ],
 "metadata": {
  "kernelspec": {
   "display_name": "tensorflow",
   "language": "python",
   "name": "tensorflow"
  },
  "language_info": {
   "codemirror_mode": {
    "name": "ipython",
    "version": 3
   },
   "file_extension": ".py",
   "mimetype": "text/x-python",
   "name": "python",
   "nbconvert_exporter": "python",
   "pygments_lexer": "ipython3",
   "version": "3.7.13"
  }
 },
 "nbformat": 4,
 "nbformat_minor": 5
}
